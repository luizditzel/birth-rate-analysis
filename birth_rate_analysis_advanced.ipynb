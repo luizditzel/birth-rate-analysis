{
 "cells": [
  {
   "cell_type": "markdown",
   "id": "37d4567a",
   "metadata": {},
   "source": [
    "\n",
    "# Birth Rate & Fertility in Developed Countries — EDA + Forecasting (Advanced) 📊\n",
    "\n",
    "This notebook expands the analysis to include **fertility rate** and **covariates**, and compares three models:\n",
    "- **SARIMAX** (with optional exogenous regressors)\n",
    "- **Exponential Smoothing (ETS)**\n",
    "- **Prophet** (with optional regressors)\n",
    "\n",
    "**Indicators (World Bank):**\n",
    "- `SP.DYN.CBRT.IN` → Crude birth rate (per 1,000 people) **(target)**\n",
    "- `SP.DYN.TFRT.IN` → Fertility rate, total (births per woman)\n",
    "- `NY.GDP.PCAP.CD` → GDP per capita (current US$)\n",
    "- `SL.TLF.CACT.FE.ZS` → Female labor force participation rate (% ages 15+)\n",
    "\n",
    "> Tip: If the World Bank API is slow, run once and cache CSVs in your repo.\n"
   ]
  },
  {
   "cell_type": "markdown",
   "id": "45c46e81",
   "metadata": {},
   "source": [
    "## 0) (Optional) Install dependencies"
   ]
  },
  {
   "cell_type": "code",
   "execution_count": null,
   "id": "cad6ce27",
   "metadata": {},
   "outputs": [],
   "source": [
    "\n",
    "# If needed, uncomment:\n",
    "# %pip install -q pandas pandas-datareader matplotlib statsmodels prophet wbdata\n"
   ]
  },
  {
   "cell_type": "markdown",
   "id": "d8bec06c",
   "metadata": {},
   "source": [
    "## 1) Imports & configuration"
   ]
  },
  {
   "cell_type": "code",
   "execution_count": null,
   "id": "27b710b2",
   "metadata": {},
   "outputs": [],
   "source": [
    "\n",
    "import warnings\n",
    "warnings.filterwarnings(\"ignore\")\n",
    "\n",
    "import pandas as pd\n",
    "import numpy as np\n",
    "import matplotlib.pyplot as plt\n",
    "\n",
    "# Fetchers\n",
    "try:\n",
    "    from pandas_datareader import wb as wbreader\n",
    "    HAVE_WB_READER = True\n",
    "except Exception:\n",
    "    HAVE_WB_READER = False\n",
    "\n",
    "try:\n",
    "    import wbdata\n",
    "    HAVE_WBDATA = True\n",
    "except Exception:\n",
    "    HAVE_WBDATA = False\n",
    "\n",
    "# Models\n",
    "from statsmodels.tsa.statespace.sarimax import SARIMAX\n",
    "from statsmodels.tsa.holtwinters import ExponentialSmoothing\n",
    "from statsmodels.tools.sm_exceptions import ConvergenceWarning\n",
    "\n",
    "try:\n",
    "    from prophet import Prophet\n",
    "    HAVE_PROPHET = True\n",
    "except Exception:\n",
    "    HAVE_PROPHET = False\n",
    "\n",
    "plt.rcParams[\"figure.figsize\"] = (11, 6)\n",
    "plt.rcParams[\"axes.grid\"] = True\n",
    "\n",
    "IND_MAP = {\n",
    "    \"SP.DYN.CBRT.IN\": \"birth_rate\",\n",
    "    \"SP.DYN.TFRT.IN\": \"fertility_rate\",\n",
    "    \"NY.GDP.PCAP.CD\": \"gdp_per_capita_usd\",\n",
    "    \"SL.TLF.CACT.FE.ZS\": \"female_lfp\"\n",
    "}\n",
    "INDICATORS = list(IND_MAP.keys())\n"
   ]
  },
  {
   "cell_type": "markdown",
   "id": "1cf67d53",
   "metadata": {},
   "source": [
    "## 2) Countries"
   ]
  },
  {
   "cell_type": "code",
   "execution_count": null,
   "id": "1c601e29",
   "metadata": {},
   "outputs": [],
   "source": [
    "\n",
    "COUNTRIES = [\n",
    "    \"USA\",\"CAN\",\"GBR\",\"DEU\",\"FRA\",\"ITA\",\"ESP\",\"NLD\",\"BEL\",\"LUX\",\"IRL\",\n",
    "    \"SWE\",\"NOR\",\"DNK\",\"FIN\",\"ISL\",\"CHE\",\"AUT\",\"PRT\",\"GRC\",\n",
    "    \"JPN\",\"KOR\",\"AUS\",\"NZL\",\"CZE\",\"SVK\",\"SVN\",\"POL\",\"HUN\",\"EST\",\"LVA\",\"LTU\"\n",
    "]\n",
    "print(f\"Selected countries ({len(COUNTRIES)}):\", \", \".join(COUNTRIES))\n"
   ]
  },
  {
   "cell_type": "markdown",
   "id": "d7038d2d",
   "metadata": {},
   "source": [
    "## 3) Fetch World Bank indicators"
   ]
  },
  {
   "cell_type": "code",
   "execution_count": null,
   "id": "2c51fd6d",
   "metadata": {},
   "outputs": [],
   "source": [
    "\n",
    "def fetch_wb_panel(countries, indicators, start=1960, end=None):\n",
    "    if end is None:\n",
    "        end = pd.Timestamp.today().year - 1\n",
    "\n",
    "    if HAVE_WB_READER:\n",
    "        frames = []\n",
    "        for ind in indicators:\n",
    "            df = wbreader.download(indicator=ind, country=countries, start=start, end=end)\n",
    "            df = df.reset_index().rename(columns={ind: IND_MAP[ind]})\n",
    "            df[\"date\"] = pd.to_datetime(df[\"year\"].astype(int), format=\"%Y\")\n",
    "            df = df[[\"country\",\"date\", IND_MAP[ind]]]\n",
    "            frames.append(df)\n",
    "        out = frames[0]\n",
    "        for f in frames[1:]:\n",
    "            out = out.merge(f, on=[\"country\",\"date\"], how=\"outer\")\n",
    "        return out.sort_values([\"country\",\"date\"]).reset_index(drop=True)\n",
    "\n",
    "    if HAVE_WBDATA:\n",
    "        frames = []\n",
    "        for ind in indicators:\n",
    "            df = wbdata.get_dataframe({ind: IND_MAP[ind]}, country=countries, convert_date=True).reset_index()\n",
    "            df = df.rename(columns={ind: IND_MAP[ind]})\n",
    "            df = df[[\"country\",\"date\", IND_MAP[ind]]]\n",
    "            frames.append(df)\n",
    "        out = frames[0]\n",
    "        for f in frames[1:]:\n",
    "            out = out.merge(f, on=[\"country\",\"date\"], how=\"outer\")\n",
    "        return out.sort_values([\"country\",\"date\"]).reset_index(drop=True)\n",
    "\n",
    "    raise ImportError(\"Install pandas-datareader or wbdata to fetch World Bank data.\")\n",
    "\n",
    "panel = fetch_wb_panel(COUNTRIES, INDICATORS, start=1960)\n",
    "panel.head()\n"
   ]
  },
  {
   "cell_type": "markdown",
   "id": "e3178271",
   "metadata": {},
   "source": [
    "## 4) Clean & quick overview"
   ]
  },
  {
   "cell_type": "code",
   "execution_count": null,
   "id": "b5629b13",
   "metadata": {},
   "outputs": [],
   "source": [
    "\n",
    "df = panel.copy()\n",
    "for col in [\"birth_rate\",\"fertility_rate\",\"gdp_per_capita_usd\",\"female_lfp\"]:\n",
    "    df[col] = pd.to_numeric(df[col], errors=\"coerce\")\n",
    "\n",
    "# Drop if both target & fertility are missing\n",
    "df = df.dropna(subset=[\"birth_rate\",\"fertility_rate\"], how=\"all\")\n",
    "\n",
    "pivot_birth = df.pivot(index=\"date\", columns=\"country\", values=\"birth_rate\").sort_index()\n",
    "pivot_fert  = df.pivot(index=\"date\", columns=\"country\", values=\"fertility_rate\").sort_index()\n",
    "\n",
    "# Align them to common timeframe\n",
    "common_idx = pivot_birth.index.intersection(pivot_fert.index)\n",
    "pivot_birth = pivot_birth.loc[common_idx]\n",
    "pivot_fert = pivot_fert.loc[common_idx]\n",
    "\n",
    "ax = pivot_birth.plot(title=\"Crude Birth Rate per 1,000 people — World Bank\", xlabel=\"Year\", ylabel=\"Birth rate\")\n",
    "_ = ax.legend(bbox_to_anchor=(1.02, 1), loc=\"upper left\")\n",
    "plt.show()\n",
    "\n",
    "ax = pivot_fert.plot(title=\"Fertility Rate (births per woman) — World Bank\", xlabel=\"Year\", ylabel=\"Fertility rate\")\n",
    "_ = ax.legend(bbox_to_anchor=(1.02, 1), loc=\"upper left\")\n",
    "plt.show()\n"
   ]
  },
  {
   "cell_type": "markdown",
   "id": "45401816",
   "metadata": {},
   "source": [
    "### 4.1) Cross-sectional correlations (latest common year)"
   ]
  },
  {
   "cell_type": "code",
   "execution_count": null,
   "id": "5bbbec57",
   "metadata": {},
   "outputs": [],
   "source": [
    "\n",
    "# Latest year with decent coverage\n",
    "latest_year = int(common_idx.max().year) if len(common_idx) else None\n",
    "print(\"Latest common year:\", latest_year)\n",
    "\n",
    "latest = df[df[\"date\"].dt.year == latest_year].copy() if latest_year else pd.DataFrame()\n",
    "if not latest.empty:\n",
    "    fig, axs = plt.subplots(1, 2, figsize=(14,5))\n",
    "    axs[0].scatter(latest[\"gdp_per_capita_usd\"], latest[\"birth_rate\"])\n",
    "    axs[0].set_title(\"Birth rate vs GDP per capita (latest year)\")\n",
    "    axs[0].set_xlabel(\"GDP per capita (USD)\")\n",
    "    axs[0].set_ylabel(\"Birth rate\")\n",
    "\n",
    "    axs[1].scatter(latest[\"female_lfp\"], latest[\"birth_rate\"])\n",
    "    axs[1].set_title(\"Birth rate vs Female LFP (latest year)\")\n",
    "    axs[1].set_xlabel(\"Female LFP (%)\")\n",
    "    axs[1].set_ylabel(\"Birth rate\")\n",
    "\n",
    "    plt.tight_layout()\n",
    "    plt.show()\n"
   ]
  },
  {
   "cell_type": "markdown",
   "id": "e3d201ac",
   "metadata": {},
   "source": [
    "## 5) Modeling helpers"
   ]
  },
  {
   "cell_type": "code",
   "execution_count": null,
   "id": "613517e4",
   "metadata": {},
   "outputs": [],
   "source": [
    "\n",
    "from sklearn.metrics import mean_absolute_error, mean_squared_error\n",
    "\n",
    "def train_test_split_series(series, test_years=10):\n",
    "    if len(series) <= test_years + 5:\n",
    "        test_years = max(1, len(series)//5)\n",
    "    train = series.iloc[:-test_years]\n",
    "    test = series.iloc[-test_years:]\n",
    "    return train, test\n",
    "\n",
    "def evaluate_forecast(actual, forecast):\n",
    "    mae = mean_absolute_error(actual, forecast)\n",
    "    rmse = mean_squared_error(actual, forecast, squared=False)\n",
    "    return mae, rmse\n",
    "\n",
    "def zscore(s):\n",
    "    s = pd.Series(s).astype(float)\n",
    "    return (s - s.mean()) / (s.std(ddof=0) if s.std(ddof=0) != 0 else 1.0)\n"
   ]
  },
  {
   "cell_type": "markdown",
   "id": "5edcbb33",
   "metadata": {},
   "source": [
    "## 6) Choose a focus country"
   ]
  },
  {
   "cell_type": "code",
   "execution_count": null,
   "id": "7bce1087",
   "metadata": {},
   "outputs": [],
   "source": [
    "\n",
    "FOCUS_COUNTRY = \"United States\"  # edit as desired\n",
    "\n",
    "g = df[df[\"country\"]==FOCUS_COUNTRY].dropna(subset=[\"birth_rate\"]).sort_values(\"date\").copy()\n",
    "g = g.set_index(\"date\")\n",
    "\n",
    "y = g[\"birth_rate\"].asfreq(\"Y\")\n",
    "# Build exog from fertility + covariates (optionally z-scored)\n",
    "exog_cols = [\"fertility_rate\",\"gdp_per_capita_usd\",\"female_lfp\"]\n",
    "X = g[exog_cols].copy()\n",
    "X = X.apply(zscore).asfreq(\"Y\")\n",
    "\n",
    "y = y.dropna()\n",
    "X = X.loc[y.index]\n",
    "\n",
    "y.tail(), X.tail()\n"
   ]
  },
  {
   "cell_type": "markdown",
   "id": "e52d4ec5",
   "metadata": {},
   "source": [
    "## 7) Fit & compare three models"
   ]
  },
  {
   "cell_type": "code",
   "execution_count": null,
   "id": "211e1c8b",
   "metadata": {},
   "outputs": [],
   "source": [
    "\n",
    "TEST_YEARS = 10\n",
    "train_y, test_y = train_test_split_series(y, TEST_YEARS)\n",
    "train_X, test_X = X.loc[train_y.index], X.loc[test_y.index]\n",
    "\n",
    "results = {}\n",
    "\n",
    "# 7.1 SARIMAX (with exog)\n",
    "best_aic, best_order, best_model = np.inf, None, None\n",
    "for p in range(0,4):\n",
    "    for d in range(0,3):\n",
    "        for q in range(0,4):\n",
    "            try:\n",
    "                m = SARIMAX(train_y, exog=train_X, order=(p,d,q), enforce_stationarity=False, enforce_invertibility=False)\n",
    "                r = m.fit(disp=False)\n",
    "                if r.aic < best_aic:\n",
    "                    best_aic, best_order, best_model = r.aic, (p,d,q), r\n",
    "            except Exception:\n",
    "                continue\n",
    "\n",
    "if best_model is not None:\n",
    "    sarimax_fc = best_model.get_forecast(steps=len(test_y), exog=test_X).predicted_mean\n",
    "    mae, rmse = evaluate_forecast(test_y, sarimax_fc)\n",
    "    results[\"SARIMAX\"] = {\"order\": best_order, \"mae\": mae, \"rmse\": rmse, \"fc\": sarimax_fc}\n",
    "else:\n",
    "    results[\"SARIMAX\"] = {\"order\": None, \"mae\": np.nan, \"rmse\": np.nan, \"fc\": pd.Series(index=test_y.index, dtype=float)}\n",
    "\n",
    "# 7.2 ETS (no exog)\n",
    "try:\n",
    "    ets = ExponentialSmoothing(train_y, trend=\"add\", seasonal=None, initialization_method=\"estimated\").fit()\n",
    "    ets_fc = ets.forecast(len(test_y))\n",
    "    mae, rmse = evaluate_forecast(test_y, ets_fc)\n",
    "    results[\"ETS\"] = {\"params\": \"trend=add\", \"mae\": mae, \"rmse\": rmse, \"fc\": ets_fc}\n",
    "except Exception:\n",
    "    results[\"ETS\"] = {\"params\": None, \"mae\": np.nan, \"rmse\": np.nan, \"fc\": pd.Series(index=test_y.index, dtype=float)}\n",
    "\n",
    "# 7.3 Prophet (with exog if available)\n",
    "if HAVE_PROPHET:\n",
    "    try:\n",
    "        train_df = pd.DataFrame({\"ds\": train_y.index.to_timestamp(), \"y\": train_y.values})\n",
    "        test_df  = pd.DataFrame({\"ds\": test_y.index.to_timestamp(), \"y\": test_y.values})\n",
    "        # Add regressors (z-scored)\n",
    "        for c in exog_cols:\n",
    "            train_df[c] = train_X[c].values\n",
    "            test_df[c]  = test_X[c].values\n",
    "\n",
    "        m = Prophet(yearly_seasonality=False, weekly_seasonality=False, daily_seasonality=False)\n",
    "        for c in exog_cols:\n",
    "            m.add_regressor(c)\n",
    "        m.fit(train_df)\n",
    "        future = test_df[[\"ds\"] + exog_cols].copy()\n",
    "        prophet_fc = m.predict(future)[\"yhat\"].values\n",
    "        prophet_fc = pd.Series(prophet_fc, index=test_y.index)\n",
    "        mae, rmse = evaluate_forecast(test_y, prophet_fc)\n",
    "        results[\"Prophet\"] = {\"mae\": mae, \"rmse\": rmse, \"fc\": prophet_fc}\n",
    "    except Exception:\n",
    "        results[\"Prophet\"] = {\"mae\": np.nan, \"rmse\": np.nan, \"fc\": pd.Series(index=test_y.index, dtype=float)}\n",
    "else:\n",
    "    results[\"Prophet\"] = {\"mae\": np.nan, \"rmse\": np.nan, \"fc\": pd.Series(index=test_y.index, dtype=float)}\n",
    "\n",
    "results\n"
   ]
  },
  {
   "cell_type": "markdown",
   "id": "d7a0f8c3",
   "metadata": {},
   "source": [
    "### 7.4) Plot test-period forecasts"
   ]
  },
  {
   "cell_type": "code",
   "execution_count": null,
   "id": "df56bee7",
   "metadata": {},
   "outputs": [],
   "source": [
    "\n",
    "plt.figure()\n",
    "plt.plot(train_y.index, train_y.values, label=\"Train\")\n",
    "plt.plot(test_y.index,  test_y.values,  label=\"Test\")\n",
    "for name, res in results.items():\n",
    "    fc = res[\"fc\"]\n",
    "    if len(fc) > 0:\n",
    "        plt.plot(fc.index, fc.values, linestyle=\"--\", marker=\"o\", label=f\"{name} forecast\")\n",
    "plt.title(f\"{FOCUS_COUNTRY} — Test forecasts comparison\")\n",
    "plt.xlabel(\"Year\"); plt.ylabel(\"Birth rate (per 1,000)\")\n",
    "plt.legend()\n",
    "plt.show()\n",
    "\n",
    "pd.DataFrame({k: {\"MAE\": v[\"mae\"], \"RMSE\": v[\"rmse\"]} for k,v in results.items()})\n"
   ]
  },
  {
   "cell_type": "markdown",
   "id": "12158e4f",
   "metadata": {},
   "source": [
    "## 8) Refit best model on full data & forecast ahead"
   ]
  },
  {
   "cell_type": "code",
   "execution_count": null,
   "id": "9a0f01be",
   "metadata": {},
   "outputs": [],
   "source": [
    "\n",
    "# pick best by RMSE\n",
    "best_name = min(results.keys(), key=lambda k: results[k][\"rmse\"] if not np.isnan(results[k][\"rmse\"]) else np.inf)\n",
    "print(\"Best model by RMSE:\", best_name)\n",
    "\n",
    "STEPS_AHEAD = 10\n",
    "\n",
    "if best_name == \"SARIMAX\" and results[\"SARIMAX\"][\"order\"] is not None:\n",
    "    full_m = SARIMAX(y, exog=X, order=results[\"SARIMAX\"][\"order\"], enforce_stationarity=False, enforce_invertibility=False).fit(disp=False)\n",
    "    future_index = pd.period_range(y.index[-1]+1, periods=STEPS_AHEAD, freq=\"Y\")\n",
    "    # naive exog hold: use last observed values\n",
    "    last_row = X.iloc[[-1]].values\n",
    "    future_X = pd.DataFrame(np.repeat(last_row, STEPS_AHEAD, axis=0), index=future_index, columns=X.columns)\n",
    "    fc = full_m.get_forecast(steps=STEPS_AHEAD, exog=future_X)\n",
    "    fc_mean = fc.predicted_mean\n",
    "    fc_ci = fc.conf_int(alpha=0.2)\n",
    "elif best_name == \"ETS\":\n",
    "    full_m = ExponentialSmoothing(y, trend=\"add\", seasonal=None, initialization_method=\"estimated\").fit()\n",
    "    fc_mean = full_m.forecast(STEPS_AHEAD)\n",
    "    fc_ci = None\n",
    "elif best_name == \"Prophet\" and HAVE_PROPHET:\n",
    "    m = Prophet(yearly_seasonality=False, weekly_seasonality=False, daily_seasonality=False)\n",
    "    for c in [\"fertility_rate\",\"gdp_per_capita_usd\",\"female_lfp\"]:\n",
    "        m.add_regressor(c)\n",
    "    df_p = pd.DataFrame({\"ds\": y.index.to_timestamp(), \"y\": y.values})\n",
    "    for c in X.columns:\n",
    "        df_p[c] = X[c].values\n",
    "    m.fit(df_p)\n",
    "    future_dates = pd.period_range(y.index[-1]+1, periods=STEPS_AHEAD, freq=\"Y\").to_timestamp()\n",
    "    future = pd.DataFrame({\"ds\": future_dates})\n",
    "    # naive regressors hold at last value\n",
    "    last_vals = X.iloc[-1]\n",
    "    for c in X.columns:\n",
    "        future[c] = float(last_vals[c])\n",
    "    fc_mean = m.predict(future).set_index(pd.PeriodIndex(future[\"ds\"], freq=\"Y\"))[\"yhat\"]\n",
    "    fc_ci = None\n",
    "else:\n",
    "    fc_mean, fc_ci = pd.Series(dtype=float), None\n",
    "\n",
    "plt.figure()\n",
    "plt.plot(y.index, y.values, label=\"Historical\")\n",
    "if len(fc_mean) > 0:\n",
    "    plt.plot(fc_mean.index, fc_mean.values, linestyle=\"--\", marker=\"o\", label=f\"{best_name} forecast (+{STEPS_AHEAD}y)\")\n",
    "plt.title(f\"{FOCUS_COUNTRY} — {best_name} {STEPS_AHEAD}-year forecast\")\n",
    "plt.xlabel(\"Year\"); plt.ylabel(\"Birth rate (per 1,000)\")\n",
    "plt.legend()\n",
    "plt.show()\n"
   ]
  },
  {
   "cell_type": "markdown",
   "id": "2560305c",
   "metadata": {},
   "source": [
    "## 9) Save outputs"
   ]
  },
  {
   "cell_type": "code",
   "execution_count": null,
   "id": "8c5c6749",
   "metadata": {},
   "outputs": [],
   "source": [
    "\n",
    "out_panel = df.reset_index(drop=True)\n",
    "out_panel.to_csv(\"results_birth_fert_covariates_panel.csv\", index=False)\n",
    "pivot_birth.to_csv(\"results_birth_rate_pivot.csv\")\n",
    "pivot_fert.to_csv(\"results_fertility_rate_pivot.csv\")\n",
    "print(\"Saved: results_birth_fert_covariates_panel.csv, results_birth_rate_pivot.csv, results_fertility_rate_pivot.csv\")\n"
   ]
  }
 ],
 "metadata": {},
 "nbformat": 4,
 "nbformat_minor": 5
}
